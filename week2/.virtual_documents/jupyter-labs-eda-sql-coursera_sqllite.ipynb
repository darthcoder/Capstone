








get_ipython().getoutput("pip install sqlalchemy")






#Please uncomment and execute the code below if you are working locally.

get_ipython().getoutput("pip install ipython-sql")


get_ipython().run_line_magic("load_ext", " sql")


import csv, sqlite3

con = sqlite3.connect("my_data1.db")
cur = con.cursor()


get_ipython().getoutput("pip install -q pandas")


get_ipython().run_line_magic("sql", " sqlite:///my_data1.db")


import pandas as pd
df = pd.read_csv("https://cf-courses-data.s3.us.cloud-object-storage.appdomain.cloud/IBM-DS0321EN-SkillsNetwork/labs/module_2/data/Spacex.csv")
df.to_sql("SPACEXTBL", con, if_exists='replace', index=False,method="multi")





get_ipython().run_line_magic("sql", " create table SPACEXTABLE as select * from SPACEXTBL where Date is not null")





get_ipython().run_line_magic("sql", " select distinct \"Launch_Site\" from SPACEXTABLE")





get_ipython().run_line_magic("sql", " select * from spacextable where \"Launch_Site\" like \"CCA%\" limit 5")





get_ipython().run_line_magic("sql", " SELECT SUM(payload_mass__kg_) FROM spacextable WHERE customer = 'NASA (CRS)';")






get_ipython().run_line_magic("sql", " select avg(payload_mass__kg_) from spacextable where booster_version like \"F9 v1.1%\"")





get_ipython().run_line_magic("sql", " select min(date) from spacextable where Landing_outcome like \"Success%\"")





get_ipython().run_line_magic("sql", " select Booster_Version from spacextable where Landing_outcome is \"Success (drone ship)\" and payload_mass__kg_ between 4000 and 6000")





get_ipython().run_cell_magic("sql", "", """SELECT
    COUNT(CASE WHEN "Mission_Outcome" = 'Success' THEN 1 END) AS Success_Count,
    COUNT(CASE WHEN "Mission_Outcome" like 'Failure%' THEN 1 END) AS Failure_Count
FROM spacextable;

""")





get_ipython().run_line_magic("sql", " select distinct booster_version from spacextable where payload_mass__kg_ = (select max(payload_mass__kg_) from spacextable) ")





get_ipython().run_cell_magic("sql", "", """
SELECT "Landing_Outcome", COUNT("Landing_Outcome") AS Outcome_Count
FROM spacextable
WHERE Date BETWEEN '2015-01-01' AND '2015-12-31'
GROUP BY "Landing_Outcome"
ORDER BY Outcome_Count DESC;
""")





get_ipython().run_cell_magic("sql", "", """
SELECT "Landing_Outcome", COUNT("Landing_Outcome") AS Outcome_Count
FROM spacextable
WHERE Date BETWEEN '2010-06-04' AND '2017-03-20'
GROUP BY "Landing_Outcome"
ORDER BY Outcome_Count DESC;
""")















