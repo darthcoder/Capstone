



































import piplite
await piplite.install(['numpy'])
await piplite.install(['pandas'])
await piplite.install(['seaborn'])





# Pandas is a software library written for the Python programming language for data manipulation and analysis.
import pandas as pd
# NumPy is a library for the Python programming language, adding support for large, multi-dimensional arrays and matrices, along with a large collection of high-level mathematical functions to operate on these arrays
import numpy as np
# Matplotlib is a plotting library for python and pyplot gives us a MatLab like plotting framework. We will use this in our plotter function to plot data.
import matplotlib.pyplot as plt
#Seaborn is a Python data visualization library based on matplotlib. It provides a high-level interface for drawing attractive and informative statistical graphics
import seaborn as sns
# Preprocessing allows us to standarsize our data
from sklearn import preprocessing
# Allows us to split our data into training and testing data
from sklearn.model_selection import train_test_split
# Allows us to test parameters of classification algorithms and find the best one
from sklearn.model_selection import GridSearchCV
# Logistic Regression classification algorithm
from sklearn.linear_model import LogisticRegression
# Support Vector Machine classification algorithm
from sklearn.svm import SVC
# Decision Tree classification algorithm
from sklearn.tree import DecisionTreeClassifier
# K Nearest Neighbors classification algorithm
from sklearn.neighbors import KNeighborsClassifier





def plot_confusion_matrix(y,y_predict):
    "this function plots the confusion matrix"
    from sklearn.metrics import confusion_matrix

    cm = confusion_matrix(y, y_predict)
    ax= plt.subplot()
    sns.heatmap(cm, annot=True, ax = ax); #annot=True to annotate cells
    ax.set_xlabel('Predicted labels')
    ax.set_ylabel('True labels')
    ax.set_title('Confusion Matrix'); 
    ax.xaxis.set_ticklabels(['did not land', 'land']); ax.yaxis.set_ticklabels(['did not land', 'landed']) 
    plt.show() 








from js import fetch
import io

URL1 = "https://cf-courses-data.s3.us.cloud-object-storage.appdomain.cloud/IBM-DS0321EN-SkillsNetwork/datasets/dataset_part_2.csv"
resp1 = await fetch(URL1)
text1 = io.BytesIO((await resp1.arrayBuffer()).to_py())
data = pd.read_csv(text1)


get_ipython().getoutput("wget https://cf-courses-data.s3.us.cloud-object-storage.appdomain.cloud/IBM-DS0321EN-SkillsNetwork/datasets/dataset_part_2.csv")
get_ipython().getoutput("wget https://cf-courses-data.s3.us.cloud-object-storage.appdomain.cloud/IBM-DS0321EN-SkillsNetwork/datasets/dataset_part_3.csv")


data = pd.read_csv('dataset_part_2.csv')

data.head()


# URL2 = 'https://cf-courses-data.s3.us.cloud-object-storage.appdomain.cloud/IBM-DS0321EN-SkillsNetwork/datasets/dataset_part_3.csv'
# resp2 = await fetch(URL2)
# text2 = io.BytesIO((await resp2.arrayBuffer()).to_py())
X = pd.read_csv('dataset_part_3.csv')


X.head(100)








Y = data['Class'].to_numpy()
Y








# students get this 
scaler = preprocessing.StandardScaler()
print(X)
X = scaler.fit(X).transform(X)
X














X_train, X_test, Y_train, Y_test = train_test_split(X, Y, test_size=0.2, random_state=2)






Y_test.shape








parameters ={'C':[0.01,0.1,1],
             'penalty':['l2'],
             'solver':['lbfgs']}


parameters ={"C":[0.01,0.1,1],'penalty':['l2'], 'solver':['lbfgs']}# l1 lasso l2 ridge
lr=LogisticRegression()
logreg_cv = GridSearchCV(lr, param_grid=parameters, cv=10)
logreg_cv.fit(X, Y)





print("tuned hpyerparameters :(best parameters) ",logreg_cv.best_params_)
print("accuracy :",logreg_cv.best_score_)
accuracy_lr = logreg_cv.best_score_








best_estimator = logreg_cv.best_estimator_
accuracy = best_estimator.score(X_test, Y_test)






yhat=logreg_cv.predict(X_test)
plot_confusion_matrix(Y_test,yhat)











parameters = {'kernel':('linear', 'rbf','poly','rbf', 'sigmoid'),
              'C': np.logspace(-3, 3, 5),
              'gamma':np.logspace(-3, 3, 5)}
svm_cv = SVC()


svm_cv = GridSearchCV(svm_cv, param_grid=parameters, cv=10)

svm_cv.fit(X, Y)


print("tuned hpyerparameters :(best parameters) ",svm_cv.best_params_)
print("accuracy :",svm_cv.best_score_)
best_params = svm_cv.best_params_
print("Best parameters:", best_params)

# Evaluate the best estimator on the validation data
best_estimator = svm_cv.best_estimator_
val_accuracy = best_estimator.score(X, Y)
print(f"Validation accuracy with {best_params['kernel']} kernel: {val_accuracy:.2f}")
accuracy_svm = val_accuracy








accuracy = best_estimator.score(X_test, Y_test)
accuracy





yhat=svm_cv.predict(X_test)
plot_confusion_matrix(Y_test,yhat)








parameters = {'criterion': ['gini', 'entropy'],
     'splitter': ['best', 'random'],
     'max_depth': [2*n for n in range(1,10)],
     'max_features': ['sqrt', 'log2', None],
     'min_samples_leaf': [1, 2, 4],
     'min_samples_split': [2, 5, 10]}

tree = DecisionTreeClassifier()


tree_cv = GridSearchCV(tree, param_grid=parameters, cv=10, error_score='raise')

# Fit the GridSearchCV object to the data
tree_cv.fit(X, Y)


print("tuned hpyerparameters :(best parameters) ",tree_cv.best_params_)
print("accuracy :",tree_cv.best_score_)
accuracy_tree = tree_cv.best_score_









accuracy = best_estimator.score(X_test, Y_test)
accuracy





yhat = tree_cv.predict(X_test)
plot_confusion_matrix(Y_test,yhat)








parameters = {'n_neighbors': [1, 2, 3, 4, 5, 6, 7, 8, 9, 10],
              'algorithm': ['auto', 'ball_tree', 'kd_tree', 'brute'],
              'p': [1,2]}

KNN = KNeighborsClassifier()


knn_cv = GridSearchCV(KNN, param_grid=parameters, cv=10)

# Fit the GridSearchCV object to the data
knn_cv.fit(X, Y)


print("tuned hpyerparameters :(best parameters) ",knn_cv.best_params_)
print("accuracy :",knn_cv.best_score_)
accuracy_knn = knn_cv.best_score_








best_estimator = knn_cv.best_estimator_

# Assuming you have X_test and y_test as your test data
# Calculate the accuracy on the test data
accuracy = best_estimator.score(X_test, Y_test)
accuracy





yhat = knn_cv.predict(X_test)
plot_confusion_matrix(Y_test,yhat)








#print(max(accuracy_knn, accuracy_lr, accuracy_svm, accuracy_tree))
data = {
    'Model': ['kNN', 'Logistic Regression', 'Support Vector Machine', 'Decision Tree'],
    'Accuracy': [accuracy_knn, accuracy_lr, accuracy_svm, accuracy_tree]
}

df = pd.DataFrame(data)
plt.figure(figsize=(10, 6))
sns.barplot(x='Model', y='Accuracy', data=df, hue='Model', palette='viridis')
plt.title('Accuracy Comparison of Different Models')
plt.ylim(0.8,1.0)
plt.show()
















