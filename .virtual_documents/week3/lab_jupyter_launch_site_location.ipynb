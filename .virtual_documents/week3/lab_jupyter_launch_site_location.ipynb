























get_ipython().getoutput("pip3 install folium")
get_ipython().getoutput("pip3 install wget")


import folium
import wget
import pandas as pd


# Import folium MarkerCluster plugin
from folium.plugins import MarkerCluster
# Import folium MousePosition plugin
from folium.plugins import MousePosition
# Import folium DivIcon plugin
from folium.features import DivIcon

















# Download and read the `spacex_launch_geo.csv`
spacex_csv_file = wget.download('https://cf-courses-data.s3.us.cloud-object-storage.appdomain.cloud/IBM-DS0321EN-SkillsNetwork/datasets/spacex_launch_geo.csv')
spacex_df=pd.read_csv(spacex_csv_file)





# Select relevant sub-columns: `Launch Site`, `Lat(Latitude)`, `Long(Longitude)`, `class`
spacex_df = spacex_df[['Launch Site', 'Lat', 'Long', 'class']]
launch_sites_df = spacex_df.groupby(['Launch Site'], as_index=False).first()
launch_sites_df = launch_sites_df[['Launch Site', 'Lat', 'Long']]
launch_sites_df








# Start location is NASA Johnson Space Center
nasa_coordinate = [29.559684888503615, -95.0830971930759]
site_map = folium.Map(location=nasa_coordinate, zoom_start=10)





# Create a blue circle at NASA Johnson Space Center's coordinate with a popup label showing its name
circle = folium.Circle(nasa_coordinate, radius=1000, color='#d35400', fill=True).add_child(folium.Popup('NASA Johnson Space Center'))
# Create a blue circle at NASA Johnson Space Center's coordinate with a icon showing its name
marker = folium.map.Marker(
    nasa_coordinate,
    # Create an icon as a text label
    icon=DivIcon(
        icon_size=(20,20),
        icon_anchor=(0,0),
        html='<div style="font-size: 12; color:#d35400;"><b>%s</b></div>' % 'NASA JSC',
        )
    )
site_map.add_child(circle)
site_map.add_child(marker)























# Initial the map
site_map = folium.Map(location=nasa_coordinate, zoom_start=5)
# For each launch site, add a Circle object based on its coordinate (Lat, Long) values. In addition, add Launch site name as a popup label


# Using MarkerCluster for better performance with many markers
marker_cluster = MarkerCluster().add_to(site_map)

for index, row in launch_sites_df.iterrows():
    lat = row['Lat']
    lon = row['Long']
    name = row['Launch Site']  # Assuming you have a column with site names

    # Circle Marker
    folium.CircleMarker(
        location=[lat, lon],
        radius=5,  # Adjust radius as needed
        popup=name, 
        color='blue',
        fill=True,
        fill_color='blue',
        fill_opacity=0.6,
    ).add_child(folium.Popup(name)).add_to(marker_cluster)

    # Additional Marker with Label (optional)
    folium.Marker(
        location=[lat, lon],
        icon=folium.DivIcon(
            icon_size=(20,20),
            icon_anchor=(0,0),
            html=f'<div style="font-size: 12; color:#d35400;"><b>{name}</b></div>'
        ),
    ).add_to(marker_cluster)

site_map

















spacex_df.tail(10)











marker_cluster = MarkerCluster()







# Apply a function to check the value of `class` column
# If class=1, marker_color value will be green
# If class=0, marker_color value will be red



# Function to assign color to launch outcome
def assign_marker_color(launch_outcome):
    if launch_outcome == 1:
        return 'green'
    else:
        return 'red'
    
spacex_df['marker_color'] = spacex_df['class'].apply(assign_marker_color)
spacex_df.tail(10)





# Add marker_cluster to current site_map
site_map.add_child(marker_cluster)

# for each row in spacex_df data frame
# create a Marker object with its coordinate
# and customize the Marker's icon property to indicate if this launch was successed or failed, 
# e.g., icon=folium.Icon(color='white', icon_color=row['marker_color']
for index, row in spacex_df.iterrows():
    # TODO: Create and add a Marker cluster to the site map
    #marker = folium.Marker(...)
    #marker_cluster.add_child(marker)
    lat = row['Lat']
    lon = row['Long']
    color = row['marker_color']
    # name = row['Launch Site']  # Assuming you have a column with site names

    # #Circle Marker
    # folium.CircleMarker(
    #     location=[lat, lon],
    #     radius=5,  # Adjust radius as needed
    #     popup=name, 
    #     color=color,
    #     fill=True,
    #     fill_color=color,
    #     fill_opacity=0.6,
    # ).add_to(marker_cluster)

    # Additional Marker with Label (optional)
    folium.Marker(
        location=[lat, lon],
        icon=folium.Icon(
            icon_size=(20,20),
            icon_anchor=(0,0),
            color='white',
            icon_color=row['marker_color'],
            html=f'<div style="font-size: 12; color:{color};"><b>{name}</b></div>'
        ),
    ).add_to(marker_cluster)

site_map























# Add Mouse Position to get the coordinate (Lat, Long) for a mouse over on the map
formatter = "function(num) {return L.Util.formatNum(num, 5);};"
mouse_position = MousePosition(
    position='topright',
    separator=' Long: ',
    empty_string='NaN',
    lng_first=False,
    num_digits=20,
    prefix='Lat:',
    lat_formatter=formatter,
    lng_formatter=formatter,
)

site_map.add_child(mouse_position)
site_map








from math import sin, cos, sqrt, atan2, radians

def calculate_distance(lat1, lon1, lat2, lon2):
    # approximate radius of earth in km
    R = 6373.0

    lat1 = radians(lat1)
    lon1 = radians(lon1)
    lat2 = radians(lat2)
    lon2 = radians(lon2)

    dlon = lon2 - lon1
    dlat = lat2 - lat1

    a = sin(dlat / 2)**2 + cos(lat1) * cos(lat2) * sin(dlon / 2)**2
    c = 2 * atan2(sqrt(a), sqrt(1 - a))

    distance = R * c
    return distance





# find coordinate of the closet coastline
# e.g.,: Lat: 28.56367  Lon: -80.57163
# distance_coastline = calculate_distance(launch_site_lat, launch_site_lon, coastline_lat, coastline_lon)





# Create and add a folium.Marker on your selected closest coastline point on the map
# Display the distance between coastline point and launch site using the icon property 
# for example
# distance_marker = folium.Marker(
#    coordinate,
#    icon=DivIcon(
#        icon_size=(20,20),
#        icon_anchor=(0,0),
#        html='<div style="font-size: 12; color:#d35400;"><b>%s</b></div>' % "{:10.2f} KM".format(distance),
#        )
#    )





# Create a `folium.PolyLine` object using the coastline coordinates and launch site coordinate
# lines=folium.PolyLine(locations=coordinates, weight=1)
site_map.add_child(lines)





























# Create a marker with distance to a closest city, railway, highway, etc.
# Draw a line between the marker to the launch site


































